{
 "cells": [
  {
   "cell_type": "code",
   "execution_count": 1,
   "metadata": {},
   "outputs": [
    {
     "name": "stdout",
     "output_type": "stream",
     "text": [
      "loading dataset refcoco into memory...\n",
      "creating index...\n",
      "index created.\n",
      "DONE (t=5.48s)\n"
     ]
    }
   ],
   "source": [
    "import sys\n",
    "sys.path.append('/home/gift/777/refer')\n",
    "from refer import REFER\n",
    "\n",
    "data_root = '/home/gift/data/refcoco'\n",
    "dataset = 'refcoco'\n",
    "splitBy = 'unc'\n",
    "refer = REFER(data_root, dataset, splitBy)"
   ]
  },
  {
   "cell_type": "code",
   "execution_count": 24,
   "metadata": {},
   "outputs": [
    {
     "name": "stdout",
     "output_type": "stream",
     "text": [
      "defaultdict(<class 'int'>, {3: 41473, 2: 8159, 4: 360, 1: 2, 6: 1, 5: 5})\n"
     ]
    }
   ],
   "source": [
    "refIds = refer.getRefIds()\n",
    "from collections import defaultdict\n",
    "annCnt = defaultdict(int)\n",
    "for refId in refIds:\n",
    "    ref = refer.loadRefs(refId)[0]\n",
    "    annCnt[len(ref['sentences'])] += 1\n",
    "print(annCnt)"
   ]
  },
  {
   "cell_type": "code",
   "execution_count": 23,
   "metadata": {},
   "outputs": [
    {
     "name": "stdout",
     "output_type": "stream",
     "text": [
      "{'sent_ids': [0, 1, 2], 'file_name': 'COCO_train2014_000000581857_16.jpg', 'ann_id': 1719310, 'ref_id': 0, 'image_id': 581857, 'split': 'train', 'sentences': [{'tokens': ['the', 'lady', 'with', 'the', 'blue', 'shirt'], 'raw': 'THE LADY WITH THE BLUE SHIRT', 'sent_id': 0, 'sent': 'the lady with the blue shirt'}, {'tokens': ['lady', 'with', 'back', 'to', 'us'], 'raw': 'lady w back to us', 'sent_id': 1, 'sent': 'lady with back to us'}, {'tokens': ['blue', 'shirt'], 'raw': 'blue shirt', 'sent_id': 2, 'sent': 'blue shirt'}], 'category_id': 1}\n",
      "{'license': 4, 'file_name': 'COCO_train2014_000000581857.jpg', 'coco_url': 'http://mscoco.org/images/581857', 'height': 640, 'width': 427, 'date_captured': '2013-11-19 19:21:09', 'flickr_url': 'http://farm6.staticflickr.com/5125/5309665572_6b7872c76a_z.jpg', 'id': 581857}\n"
     ]
    }
   ],
   "source": [
    "ref = refer.loadRefs(refIds[0])[0]\n",
    "print(ref)\n",
    "img = refer.loadImgs(ref['image_id'])[0]\n",
    "print(img)"
   ]
  },
  {
   "cell_type": "code",
   "execution_count": null,
   "metadata": {},
   "outputs": [],
   "source": []
  }
 ],
 "metadata": {
  "kernelspec": {
   "display_name": "Python 3",
   "language": "python",
   "name": "python3"
  },
  "language_info": {
   "codemirror_mode": {
    "name": "ipython",
    "version": 3
   },
   "file_extension": ".py",
   "mimetype": "text/x-python",
   "name": "python",
   "nbconvert_exporter": "python",
   "pygments_lexer": "ipython3",
   "version": "3.7.3"
  }
 },
 "nbformat": 4,
 "nbformat_minor": 2
}
