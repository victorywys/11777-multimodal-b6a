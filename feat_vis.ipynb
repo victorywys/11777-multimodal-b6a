{
 "cells": [
  {
   "cell_type": "code",
   "execution_count": 1,
   "metadata": {},
   "outputs": [],
   "source": [
    "from UniModalReps import *\n",
    "from sklearn.manifold import TSNE\n",
    "import torchvision.models as  models\n",
    "import torch"
   ]
  },
  {
   "cell_type": "code",
   "execution_count": 2,
   "metadata": {},
   "outputs": [
    {
     "name": "stdout",
     "output_type": "stream",
     "text": [
      "loading dataset refcoco+ into memory...\n",
      "creating index...\n",
      "index created.\n",
      "DONE (t=8.04s)\n"
     ]
    }
   ],
   "source": [
    "resnet_50 = models.resnet50(pretrained=True)\n",
    "res50_C4 = Resnet_C4(resnet_50)\n",
    "    \n",
    "# Setting variables for data loading\n",
    "data_root = '/home/jingwen/data/refcoco'  # contains refclef, refcoco, refcoco+, refcocog and images\n",
    "dataset = 'refcoco+'\n",
    "splitBy = 'unc'\n",
    "refer = REFER(data_root, dataset, splitBy)"
   ]
  },
  {
   "cell_type": "code",
   "execution_count": 4,
   "metadata": {},
   "outputs": [
    {
     "name": "stdout",
     "output_type": "stream",
     "text": [
      "141564 expressions for 49856 refs in 19992 images.\n",
      "1. navy blue shirt\n",
      "2. woman back in blue\n",
      "3. blue shirt\n",
      "1. gray shirt wearing glasses\n",
      "2. lady with glasses\n",
      "3. woman with gray shirt standing next to man\n",
      "1. standing with racket\n",
      "2. woman standing\n",
      "3. holding raquet\n",
      "1. woman sitting with leg extended\n",
      "2. ditting darker hair\n",
      "1. child with case on head\n",
      "2. holding a green object\n",
      "3. hand of person with red shirt\n",
      "1. guy in brown shirt\n",
      "2. man in brown\n",
      "3. man wearing long sleeves\n",
      "1. urinal closest to the white pipe\n",
      "1. pisser far rat\n",
      "1. vase holding tallest flower\n",
      "2. the vase with the tallest flower\n",
      "3. no 3\n",
      "1. vase of flower drooping\n",
      "2. vase with wilted flower\n",
      "3. vase of the flower tilting over\n"
     ]
    }
   ],
   "source": [
    "load_statistics(refer)\n",
    "splits = make_split(dataset)\n",
    "    \n",
    "ref_ids_dict = get_refs_id_dict(refer,splits)\n",
    "refs_dict = get_refslist(refer,ref_ids_dict)\n",
    "    \n",
    "refs_small = refs_dict['train'][:10]\n",
    "ref_id_small = ref_ids_dict['train'][:10]\n",
    "    \n",
    "for i in refs_small:\n",
    "    show_image_annoted(refer,i)"
   ]
  },
  {
   "cell_type": "code",
   "execution_count": null,
   "metadata": {},
   "outputs": [],
   "source": []
  }
 ],
 "metadata": {
  "kernelspec": {
   "display_name": "Python 2",
   "language": "python",
   "name": "python2"
  },
  "language_info": {
   "codemirror_mode": {
    "name": "ipython",
    "version": 2
   },
   "file_extension": ".py",
   "mimetype": "text/x-python",
   "name": "python",
   "nbconvert_exporter": "python",
   "pygments_lexer": "ipython2",
   "version": "2.7.16"
  }
 },
 "nbformat": 4,
 "nbformat_minor": 2
}
