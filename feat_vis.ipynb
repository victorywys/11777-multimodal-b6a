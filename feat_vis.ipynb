{
 "cells": [
  {
   "cell_type": "code",
   "execution_count": 2,
   "metadata": {},
   "outputs": [],
   "source": [
    "from UniModalReps import *\n",
    "import torchvision.models as  models\n",
    "import torch"
   ]
  },
  {
   "cell_type": "code",
   "execution_count": 3,
   "metadata": {},
   "outputs": [
    {
     "name": "stdout",
     "output_type": "stream",
     "text": [
      "loading dataset refcoco+ into memory...\n",
      "creating index...\n",
      "index created.\n",
      "DONE (t=8.03s)\n"
     ]
    }
   ],
   "source": [
    "resnet_50 = models.resnet50(pretrained=True)\n",
    "res50_C4 = Resnet_C4(resnet_50)\n",
    "    \n",
    "# Setting variables for data loading\n",
    "data_root = '/home/jingwen/data/refcoco'  # contains refclef, refcoco, refcoco+, refcocog and images\n",
    "dataset = 'refcoco+'\n",
    "splitBy = 'unc'\n",
    "refer = REFER(data_root, dataset, splitBy)"
   ]
  },
  {
   "cell_type": "code",
   "execution_count": 4,
   "metadata": {},
   "outputs": [
    {
     "name": "stdout",
     "output_type": "stream",
     "text": [
      "141564 expressions for 49856 refs in 19992 images.\n",
      "[(1, 20998), (24, 918), (22, 908), (25, 858), (62, 854), (51, 837), (59, 700), (19, 671), (54, 647), (21, 644)]\n"
     ]
    }
   ],
   "source": [
    "load_statistics(refer)\n",
    "splits = make_split(dataset)\n",
    "    \n",
    "ref_ids_dict = get_refs_id_dict(refer,splits)\n",
    "refs_dict = get_refslist(refer,ref_ids_dict)\n",
    "\n",
    "from collections import defaultdict\n",
    "cat_cnts = defaultdict(int)\n",
    "for ref in refs_dict['train']:\n",
    "    cat_cnts[ref['category_id']] += 1\n",
    "cat_cnts = [(key, value) for key, value in cat_cnts.items()]\n",
    "cat_cnts = sorted(cat_cnts, key=lambda x: x[1], reverse=True)\n",
    "cat_cnts = cat_cnts[:10]\n",
    "print(cat_cnts)\n",
    "vis_cats = [item[0] for item in cat_cnts]"
   ]
  },
  {
   "cell_type": "code",
   "execution_count": 5,
   "metadata": {},
   "outputs": [],
   "source": [
    "vis_by_cat = defaultdict(list)\n",
    "vis_id_by_cat = defaultdict(list)\n",
    "vis_cnts = defaultdict(int)\n",
    "max_vis_num = 100\n",
    "for ref, ref_id in zip(refs_dict['train'], ref_ids_dict['train']):\n",
    "    if ref['category_id'] in vis_cats and vis_cnts[ref['category_id']] < max_vis_num:\n",
    "        vis_by_cat[ref['category_id']].append(ref)\n",
    "        vis_id_by_cat[ref['category_id']].append(ref_id)\n",
    "        vis_cnts[ref['category_id']] += 1"
   ]
  },
  {
   "cell_type": "code",
   "execution_count": 76,
   "metadata": {},
   "outputs": [
    {
     "name": "stdout",
     "output_type": "stream",
     "text": [
      "(100, 2048)\n",
      "(100, 2048)\n",
      "(100, 2048)\n",
      "(97, 2048)\n",
      "(100, 2048)\n",
      "(100, 2048)\n",
      "(100, 2048)\n",
      "(100, 2048)\n",
      "(100, 2048)\n",
      "(100, 2048)\n"
     ]
    }
   ],
   "source": [
    "from PIL import Image\n",
    "from torchvision import transforms\n",
    "\n",
    "transform = transforms.Compose([\n",
    "    transforms.Resize(512),\n",
    "    transforms.ToTensor(),\n",
    "    transforms.Normalize(mean=[0.485, 0.456, 0.406], std=[0.229, 0.224, 0.225])\n",
    "])\n",
    "\n",
    "res50_C4 = res50_C4.cuda()\n",
    "for cat in vis_by_cat:\n",
    "    img_list = load_images(refer,vis_by_cat[cat])\n",
    "    bounded_image_list = get_bounded_image(refer,vis_id_by_cat[cat],img_list)\n",
    "    bounded_image_list = [transform(Image.fromarray(img)).cuda() for img in bounded_image_list]\n",
    "    bounded_outputs = []\n",
    "    with torch.no_grad():\n",
    "        for cropped_tensor in bounded_image_list:\n",
    "            # Not RGB image\n",
    "            if cropped_tensor.shape[0] != 3:\n",
    "                continue\n",
    "            cropped_tensor = cropped_tensor.unsqueeze(0)\n",
    "            cropped_tensor = cropped_tensor.float()\n",
    "            bounded_outputs.append(res50_C4(cropped_tensor).cpu().numpy())\n",
    "    outputs = [np.mean(np.mean(np.mean(output, axis=3), axis=2), axis=0) for output in bounded_outputs]\n",
    "    outputs = np.stack(outputs)\n",
    "    print(outputs.shape)\n",
    "    np.save('feat/%s' % cat, outputs)\n",
    "    "
   ]
  },
  {
   "cell_type": "code",
   "execution_count": 17,
   "metadata": {},
   "outputs": [
    {
     "name": "stdout",
     "output_type": "stream",
     "text": [
      "loading annotations into memory...\n",
      "Done (t=11.79s)\n",
      "creating index...\n",
      "index created!\n"
     ]
    }
   ],
   "source": [
    "from pycocotools.coco import COCO\n",
    "dataType = 'train2014'\n",
    "dataDir = '/home/jingwen/data/mscoco'\n",
    "annFile = '{}/annotations/instances_{}.json'.format(dataDir, dataType)\n",
    "coco = COCO(annFile)"
   ]
  },
  {
   "cell_type": "code",
   "execution_count": 19,
   "metadata": {},
   "outputs": [],
   "source": [
    "cats = coco.loadCats(coco.getCatIds())\n",
    "id2cat = {item['id']: item['name'] for item in cats}"
   ]
  },
  {
   "cell_type": "code",
   "execution_count": 77,
   "metadata": {},
   "outputs": [
    {
     "name": "stdout",
     "output_type": "stream",
     "text": [
      "(u'horse', (97, 2048))\n",
      "(u'bowl', (100, 2048))\n",
      "(u'elephant', (100, 2048))\n",
      "(u'cow', (100, 2048))\n",
      "(u'pizza', (100, 2048))\n",
      "(u'sandwich', (100, 2048))\n",
      "(u'chair', (100, 2048))\n",
      "(u'zebra', (100, 2048))\n",
      "(u'person', (100, 2048))\n",
      "(u'giraffe', (100, 2048))\n"
     ]
    }
   ],
   "source": [
    "import os\n",
    "feats = []\n",
    "labels = []\n",
    "id2cat_new = {}\n",
    "for i, name in enumerate(os.listdir('feat')):\n",
    "    filename = os.path.join('feat', name)\n",
    "    cid = int(os.path.splitext(name)[0])\n",
    "    cat = id2cat[cid]\n",
    "    id2cat_new[i] = cat\n",
    "    data = np.load(filename)\n",
    "    print(cat, data.shape)\n",
    "    \n",
    "    feats.append(data)\n",
    "    labels.extend([i] * data.shape[0])\n",
    "feats = np.vstack(feats)\n",
    "labels = np.array(labels)"
   ]
  },
  {
   "cell_type": "code",
   "execution_count": 78,
   "metadata": {},
   "outputs": [],
   "source": [
    "from sklearn.manifold import TSNE\n",
    "RS = 20190930\n",
    "tsne = TSNE(random_state = RS).fit_transform(feats)"
   ]
  },
  {
   "cell_type": "code",
   "execution_count": 79,
   "metadata": {},
   "outputs": [],
   "source": [
    "import seaborn as sns\n",
    "sns.set_style('darkgrid')\n",
    "sns.set_palette('muted')\n",
    "sns.set_context('notebook', font_scale=1.5, rc={'lines.linewidth': 2.5})"
   ]
  },
  {
   "cell_type": "code",
   "execution_count": 135,
   "metadata": {},
   "outputs": [],
   "source": [
    "import matplotlib.patheffects as PathEffects\n",
    "def scatter(x, colors, colors2id):\n",
    "    # We choose a color palette with seaborn.\n",
    "    palette = np.array(sns.color_palette(\"hls\", 10))\n",
    "\n",
    "    # We create a scatter plot.\n",
    "    f = plt.figure(figsize=(8, 8))\n",
    "    ax = plt.subplot(aspect='equal')\n",
    "    for i in range(10):\n",
    "        if colors2id[i] in colors2id.values():\n",
    "#         if colors2id[i] in ['giraffe', 'horse', 'zebra', 'person', 'elephant', 'cow']:\n",
    "            idx = (colors == i)\n",
    "            sc = ax.scatter(x[idx,0], x[idx,1], lw=0, s=40,\n",
    "                            c=palette[i], label=colors2id[i])\n",
    "    ax.set_xlim((-15, 15))\n",
    "    ax.set_ylim((-15, 15))\n",
    "    ax.axis('off')\n",
    "#     ax.axis('tight')\n",
    "    lgd = ax.legend(bbox_to_anchor=(1.5,0.5), loc = 'right')\n",
    "    f.savefig('tsne.png', bbox_extra_artists=(lgd, ax), bbox_inches='tight')\n",
    "\n",
    "    return f, ax, sc#, txts"
   ]
  },
  {
   "cell_type": "code",
   "execution_count": 136,
   "metadata": {},
   "outputs": [
    {
     "data": {
      "text/plain": [
       "(<Figure size 576x576 with 1 Axes>,\n",
       " <matplotlib.axes._subplots.AxesSubplot at 0x7f785a3a19d0>,\n",
       " <matplotlib.collections.PathCollection at 0x7f785a373550>)"
      ]
     },
     "execution_count": 136,
     "metadata": {},
     "output_type": "execute_result"
    },
    {
     "data": {
      "image/png": "[encoded data removed]",
      "text/plain": [
       "<Figure size 576x576 with 1 Axes>"
      ]
     },
     "metadata": {},
     "output_type": "display_data"
    }
   ],
   "source": [
    "scatter(tsne, labels, id2cat_new)"
   ]
  },
  {
   "cell_type": "code",
   "execution_count": null,
   "metadata": {},
   "outputs": [],
   "source": []
  }
 ],
 "metadata": {
  "kernelspec": {
   "display_name": "Python 2",
   "language": "python",
   "name": "python2"
  },
  "language_info": {
   "codemirror_mode": {
    "name": "ipython",
    "version": 2
   },
   "file_extension": ".py",
   "mimetype": "text/x-python",
   "name": "python",
   "nbconvert_exporter": "python",
   "pygments_lexer": "ipython2",
   "version": "2.7.16"
  }
 },
 "nbformat": 4,
 "nbformat_minor": 2
}
